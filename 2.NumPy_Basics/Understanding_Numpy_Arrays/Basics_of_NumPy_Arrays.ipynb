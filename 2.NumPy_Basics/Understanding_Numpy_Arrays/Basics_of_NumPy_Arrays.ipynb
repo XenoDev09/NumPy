{
 "cells": [
  {
   "cell_type": "code",
   "execution_count": 1,
   "id": "a3873c32",
   "metadata": {},
   "outputs": [],
   "source": [
    "import numpy as np"
   ]
  },
  {
   "cell_type": "markdown",
   "id": "777fcc92",
   "metadata": {},
   "source": [
    "NumPy stands for Numerical Python and is used for handling large, multi-dimensional arrays and matrices. Unlike Python's built-in lists NumPy arrays provide efficient storage and faster processing for numerical and scientific computations. It offers functions for linear algebra and random number generation making it important for data science and machine learning.\n",
    "\n",
    "Types of Array:\n",
    "\n",
    "1. One dimentional Array (linear array)"
   ]
  },
  {
   "cell_type": "code",
   "execution_count": 3,
   "id": "ee4f7103",
   "metadata": {},
   "outputs": [
    {
     "name": "stdout",
     "output_type": "stream",
     "text": [
      "List in python: [1, 2, 3, 4, 5]\n",
      "<class 'list'>\n",
      "Numpy Array in python: [1 2 3 4 5]\n",
      "<class 'numpy.ndarray'>\n"
     ]
    }
   ],
   "source": [
    "list_1 = [1,2,3,4,5]\n",
    "\n",
    "arr = np.array(list_1)\n",
    "\n",
    "print(\"List in python:\",list_1)\n",
    "print(type(list_1))\n",
    "\n",
    "print(\"Numpy Array in python:\",arr)\n",
    "print(type(arr))"
   ]
  },
  {
   "cell_type": "markdown",
   "id": "f42c6bc2",
   "metadata": {},
   "source": [
    "2. Multi-Dimentional Array:\n",
    "\n",
    "A Multi-Dimensional Array is an array that can store data in more than one dimension such as rows and columns. In simple terms it is a array of arrays. like table having rows and columns which can be accessed bu two indices,row and column."
   ]
  },
  {
   "cell_type": "code",
   "execution_count": 4,
   "id": "8db0abd6",
   "metadata": {},
   "outputs": [
    {
     "name": "stdout",
     "output_type": "stream",
     "text": [
      "[[ 1  2  3  4]\n",
      " [ 5  6  7  8]\n",
      " [ 9 10 11 12]]\n"
     ]
    }
   ],
   "source": [
    "list_1 = [1,2,3,4]\n",
    "list_2 = [5,6,7,8]\n",
    "list_3 = [9,10,11,12]\n",
    "\n",
    "arr = np.array([list_1,\n",
    "                list_2,\n",
    "                list_3])\n",
    "\n",
    "print(arr)"
   ]
  },
  {
   "cell_type": "markdown",
   "id": "089a184d",
   "metadata": {},
   "source": [
    "Parameters of a Numpy Array:\n",
    "\n",
    "1. Axis: Axis of an array describes the order of the indexing into the array.\n",
    "\n",
    "Axis 0 = one dimensional\n",
    "Axis 1 = Two dimensional\n",
    "Axis 2 = Three dimensional \n",
    "\n",
    "2. Shape : Number of elements along with each axis and is returned as a tuple."
   ]
  },
  {
   "cell_type": "code",
   "execution_count": 5,
   "id": "5c7e05c6",
   "metadata": {},
   "outputs": [
    {
     "name": "stdout",
     "output_type": "stream",
     "text": [
      "shape of the array : (5, 3)\n"
     ]
    }
   ],
   "source": [
    "sample_array = np.array([[0, 4, 2],\n",
    "                       [3, 4, 5],\n",
    "                       [23, 4, 5],\n",
    "                       [2, 34, 5],\n",
    "                       [5, 6, 7]])\n",
    "\n",
    "print(\"shape of the array :\",\n",
    "      sample_array.shape)"
   ]
  },
  {
   "cell_type": "markdown",
   "id": "0e81796f",
   "metadata": {},
   "source": [
    "3. Rank: Rank of an array is simply the number of aces or dimentions it has.\n",
    "\n",
    "1D has rank 1\n",
    "2D has rank 2\n",
    "\n",
    "4. Data type objects (dtype):\n",
    "Data type objects (dtype) is an example of numpy.dtype class. It describes how the bytes in the fixed-size block of memory corresponding to an array item should be interpreted.\n"
   ]
  },
  {
   "cell_type": "code",
   "execution_count": 6,
   "id": "ae6b00cb",
   "metadata": {},
   "outputs": [
    {
     "name": "stdout",
     "output_type": "stream",
     "text": [
      "Data type of the array 1 : int64\n",
      "Data type of array 2 : float64\n"
     ]
    }
   ],
   "source": [
    "sample_array_1 = np.array([[0, 4, 2]])\n",
    "\n",
    "sample_array_2 = np.array([0.2, 0.4, 2.4])\n",
    "\n",
    "print(\"Data type of the array 1 :\",\n",
    "      sample_array_1.dtype)\n",
    "\n",
    "print(\"Data type of array 2 :\",\n",
    "      sample_array_2.dtype)"
   ]
  }
 ],
 "metadata": {
  "kernelspec": {
   "display_name": "Python 3",
   "language": "python",
   "name": "python3"
  },
  "language_info": {
   "codemirror_mode": {
    "name": "ipython",
    "version": 3
   },
   "file_extension": ".py",
   "mimetype": "text/x-python",
   "name": "python",
   "nbconvert_exporter": "python",
   "pygments_lexer": "ipython3",
   "version": "3.13.5"
  }
 },
 "nbformat": 4,
 "nbformat_minor": 5
}
