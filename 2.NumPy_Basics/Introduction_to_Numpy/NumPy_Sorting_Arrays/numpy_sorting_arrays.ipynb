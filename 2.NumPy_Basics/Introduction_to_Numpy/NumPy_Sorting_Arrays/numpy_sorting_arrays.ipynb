{
 "cells": [
  {
   "cell_type": "markdown",
   "id": "9409612c",
   "metadata": {},
   "source": [
    "We can use a simple np.sort() method for sorting Python NumPy arrays."
   ]
  },
  {
   "cell_type": "code",
   "execution_count": 1,
   "id": "10e5f680",
   "metadata": {},
   "outputs": [
    {
     "name": "stdout",
     "output_type": "stream",
     "text": [
      "\n",
      "Array sorted by names:\n",
      " [(b'Aakash', 2009, 9. ) (b'Ajay', 2008, 8.7) (b'Hrithik', 2009, 8.5)\n",
      " (b'Pankaj', 2008, 7.9)]\n",
      "Array sorted by graduation year and then cgpa:\n",
      " [(b'Pankaj', 2008, 7.9) (b'Ajay', 2008, 8.7) (b'Hrithik', 2009, 8.5)\n",
      " (b'Aakash', 2009, 9. )]\n"
     ]
    }
   ],
   "source": [
    "import numpy as np\n",
    "\n",
    "# set alias names for dtypes\n",
    "dtypes = [('name', 'S10'), ('grad_year', int), ('cgpa', float)]\n",
    "\n",
    "# Values to be put in array\n",
    "values = [('Hrithik', 2009, 8.5), ('Ajay', 2008, 8.7), \n",
    "           ('Pankaj', 2008, 7.9), ('Aakash', 2009, 9.0)]\n",
    "           \n",
    "# Creating array\n",
    "arr = np.array(values, dtype = dtypes)\n",
    "print (\"\\nArray sorted by names:\\n\",\n",
    "            np.sort(arr, order = 'name'))\n",
    "            \n",
    "print (\"Array sorted by graduation year and then cgpa:\\n\",\n",
    "                np.sort(arr, order = ['grad_year', 'cgpa']))"
   ]
  },
  {
   "cell_type": "markdown",
   "id": "ba26bdc3",
   "metadata": {},
   "source": [
    "numpy.sort():\n",
    "\n",
    "This function returns a sorted copy of an array. \n",
    "\n",
    "Parameters :\n",
    "arr   : Array to be sorted.  \n",
    "axis  : Axis along which we need array to be started.  \n",
    "order : This argument specifies which fields to compare first.\n",
    "kind  : [‘quicksort’{default}, ‘mergesort’, ‘heapsort’]Sorting algorithm.\n",
    "\n",
    "Return :\n",
    "Sorted Array"
   ]
  },
  {
   "cell_type": "code",
   "execution_count": 2,
   "id": "415cac7d",
   "metadata": {},
   "outputs": [
    {
     "name": "stdout",
     "output_type": "stream",
     "text": [
      "Along first axis : \n",
      " [[10  1]\n",
      " [12 15]]\n",
      "\n",
      "Along first axis : \n",
      " [[10 15]\n",
      " [ 1 12]]\n",
      "\n",
      "Along none axis : \n",
      " [ 1 10 12 15]\n"
     ]
    }
   ],
   "source": [
    "# sort along the first axis\n",
    "a = np.array([[12, 15], [10, 1]])\n",
    "arr1 = np.sort(a, axis = 0)        \n",
    "print (\"Along first axis : \\n\", arr1)        \n",
    "\n",
    "\n",
    "# sort along the last axis\n",
    "a = np.array([[10, 15], [12, 1]])\n",
    "arr2 = np.sort(a, axis = -1)        \n",
    "print (\"\\nAlong first axis : \\n\", arr2)\n",
    "\n",
    "\n",
    "a = np.array([[12, 15], [10, 1]])\n",
    "arr1 = np.sort(a, axis = None)        \n",
    "print (\"\\nAlong none axis : \\n\", arr1)"
   ]
  }
 ],
 "metadata": {
  "kernelspec": {
   "display_name": "Python 3",
   "language": "python",
   "name": "python3"
  },
  "language_info": {
   "codemirror_mode": {
    "name": "ipython",
    "version": 3
   },
   "file_extension": ".py",
   "mimetype": "text/x-python",
   "name": "python",
   "nbconvert_exporter": "python",
   "pygments_lexer": "ipython3",
   "version": "3.13.5"
  }
 },
 "nbformat": 4,
 "nbformat_minor": 5
}
