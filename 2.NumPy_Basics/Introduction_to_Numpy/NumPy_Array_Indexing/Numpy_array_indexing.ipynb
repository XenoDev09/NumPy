{
 "cells": [
  {
   "cell_type": "code",
   "execution_count": 3,
   "id": "7617443e",
   "metadata": {},
   "outputs": [],
   "source": [
    "import numpy as np"
   ]
  },
  {
   "cell_type": "markdown",
   "id": "392358f6",
   "metadata": {},
   "source": [
    "NumPy array indexing is important for analyzing and manipulating the array object.\n",
    "\n",
    "1. Basic Indexing:\n",
    "Basic indexing in NumPy allows you to access elements of an array using indices."
   ]
  },
  {
   "cell_type": "code",
   "execution_count": 4,
   "id": "eecd6128",
   "metadata": {},
   "outputs": [
    {
     "name": "stdout",
     "output_type": "stream",
     "text": [
      "Single element access: 30\n",
      "Negative indexing: 50\n",
      "Multidimensional array access: 4\n"
     ]
    }
   ],
   "source": [
    "# Create a 1D array\n",
    "arr_1d = np.array([10, 20, 30, 40, 50])\n",
    "\n",
    "# Single element access\n",
    "print(\"Single element access:\", arr_1d[2])  \n",
    "\n",
    "# Negative indexing\n",
    "print(\"Negative indexing:\", arr_1d[-1])  \n",
    "\n",
    "# Create a 2D array\n",
    "arr_2d = np.array([[1, 2, 3], [4, 5, 6], [7, 8, 9]])\n",
    "\n",
    "# Multidimensional array access\n",
    "print(\"Multidimensional array access:\", arr_2d[1, 0])"
   ]
  },
  {
   "cell_type": "markdown",
   "id": "4616786a",
   "metadata": {},
   "source": [
    "2. Slicing:\n",
    "\n",
    "Just like lists in Python, NumPy arrays can be sliced. As arrays can be multidimensional, you need to specify a slice for each dimension of the array."
   ]
  },
  {
   "cell_type": "code",
   "execution_count": 5,
   "id": "19e0699e",
   "metadata": {},
   "outputs": [
    {
     "name": "stdout",
     "output_type": "stream",
     "text": [
      "Range of Elements: [[4 5 6]]\n",
      "Multidimensional Slicing: [2 5]\n"
     ]
    }
   ],
   "source": [
    "arr = np.array([[1, 2, 3],\n",
    "                [4, 5, 6]])\n",
    "#elements from index 1 to 3\n",
    "print(\"Range of Elements:\",arr[1:4])\n",
    "\n",
    "#all rows, second column\n",
    "print(\"Multidimensional Slicing:\", arr[:, 1])"
   ]
  },
  {
   "cell_type": "markdown",
   "id": "64e8de62",
   "metadata": {},
   "source": [
    "3. Advanced Indexing:\n",
    "\n",
    "Advanced Indexing in NumPy provides more powerful and flexible ways to access and manipulate array elements."
   ]
  },
  {
   "cell_type": "code",
   "execution_count": 6,
   "id": "22b924bc",
   "metadata": {},
   "outputs": [
    {
     "name": "stdout",
     "output_type": "stream",
     "text": [
      "Integer array indexing: [20 40 60]\n",
      "\n",
      "Elements greater than 0:\n",
      " [ 10  20  30  40  50  60  70  80  90 100]\n"
     ]
    }
   ],
   "source": [
    "arr = np.array([10, 20, 30, 40, 50, 60, 70, 80, 90, 100])\n",
    "\n",
    "# Integer array indexing \n",
    "indices = np.array([1, 3, 5])\n",
    "print (\"Integer array indexing:\", arr[indices])\n",
    "\n",
    "# boolean array indexing \n",
    "cond = arr > 0\n",
    "print (\"\\nElements greater than 0:\\n\", arr[cond])"
   ]
  }
 ],
 "metadata": {
  "kernelspec": {
   "display_name": "Python 3",
   "language": "python",
   "name": "python3"
  },
  "language_info": {
   "codemirror_mode": {
    "name": "ipython",
    "version": 3
   },
   "file_extension": ".py",
   "mimetype": "text/x-python",
   "name": "python",
   "nbconvert_exporter": "python",
   "pygments_lexer": "ipython3",
   "version": "3.13.5"
  }
 },
 "nbformat": 4,
 "nbformat_minor": 5
}
