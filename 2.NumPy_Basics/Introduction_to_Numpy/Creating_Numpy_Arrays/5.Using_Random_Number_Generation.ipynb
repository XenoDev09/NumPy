{
 "cells": [
  {
   "cell_type": "code",
   "execution_count": 1,
   "id": "430b4725",
   "metadata": {},
   "outputs": [],
   "source": [
    "import numpy as np"
   ]
  },
  {
   "cell_type": "markdown",
   "id": "55fb5071",
   "metadata": {},
   "source": [
    "NumPy provides functions to create arrays filled with random numbers.\n",
    "\n",
    "1. np.random.rand(): Creates an array of specified shape and fills it with random values sampled from a uniform distribution over [0, 1).\n",
    "2. np.random.randn(): Creates an array of specified shape and fills it with random values sampled from a standard normal distribution.\n",
    "3. np.random.randint(): Creates an array of specified shape and fills it with random integers within a given range."
   ]
  },
  {
   "cell_type": "code",
   "execution_count": 2,
   "id": "5e77353f",
   "metadata": {},
   "outputs": [
    {
     "name": "stdout",
     "output_type": "stream",
     "text": [
      "[[0.96072405 0.80909503 0.91673939]\n",
      " [0.48814114 0.02741537 0.90802728]]\n",
      "[[-2.73454719  0.4251867 ]\n",
      " [-0.99315393  0.74851863]]\n",
      "[[3 2 5]\n",
      " [4 6 2]]\n"
     ]
    }
   ],
   "source": [
    "random_array = np.random.rand(2, 3)\n",
    "normal_array = np.random.randn(2, 2)\n",
    "randint_array = np.random.randint(1, 10, size=(2, 3))  \n",
    "\n",
    "print(random_array)\n",
    "print(normal_array)\n",
    "print(randint_array)"
   ]
  },
  {
   "cell_type": "markdown",
   "id": "40605db3",
   "metadata": {},
   "source": [
    "1. numpy.random.rand():\n",
    "\n",
    "The numpy.random.rand() function creates an array of specified shapes fills it with random values uniformly distributed between 0 and 1.\n",
    "It is commonly used for creating random arrays in various applications such as simulations and machine learning. The function's output is determined by the shape parameters provided.\n",
    "\n",
    "Syntax : numpy.random.rand(d0, d1, ..., dn)\n",
    "\n",
    "Parameters:\n",
    "d0, d1, ..., dn : [int, optional]Dimension of the returned array we require, If no argument is given a single Python float is returned.\n",
    "Return:\n",
    "\n",
    "Array of defined shape, filled with random values."
   ]
  },
  {
   "cell_type": "code",
   "execution_count": 3,
   "id": "04cbdb12",
   "metadata": {},
   "outputs": [
    {
     "name": "stdout",
     "output_type": "stream",
     "text": [
      "1D Array filled with random values : [0.07216959 0.80987969 0.37135413 0.57878499 0.04778371]\n",
      "\n",
      "\n",
      "2D Array filled with random values :  [[0.42658702 0.6844734  0.82991172 0.75898093]\n",
      " [0.91288541 0.54459458 0.84174024 0.61399623]\n",
      " [0.74251287 0.04316395 0.21482454 0.83781725]]\n",
      "\n",
      "\n",
      "3D Array filled with random values : \n",
      " [[[0.84963161 0.36137584]\n",
      "  [0.84422148 0.09714705]]\n",
      "\n",
      " [[0.91794652 0.9945612 ]\n",
      "  [0.04371241 0.36914036]]]\n"
     ]
    }
   ],
   "source": [
    "#Randomly Constructing 1D Array\n",
    "# 1D Array\n",
    "array = np.random.rand(5)\n",
    "print(\"1D Array filled with random values :\", array);\n",
    "\n",
    "#Randomly Constructing 2D Array \n",
    "# 2D Array   \n",
    "array = np.random.rand(3, 4)\n",
    "print(\"\\n\\n2D Array filled with random values : \", array);\n",
    "\n",
    "#Randomly Constructing 3D Array \n",
    "# 3D Array     \n",
    "array = np.random.rand(2, 2 ,2)\n",
    "print(\"\\n\\n3D Array filled with random values : \\n\", array);"
   ]
  },
  {
   "cell_type": "markdown",
   "id": "4a9957ac",
   "metadata": {},
   "source": [
    "2. numpy.random.randn():\n",
    "\n",
    "The numpy.random.randn() function creates an array of specified shape and fills it with random values as per standard normal distribution. \n",
    "\n",
    "If positive arguments are provided, randn generates an array of shape (d0, d1, ..., dn), filled with random floats sampled from a univariate “normal” (Gaussian) distribution of mean 0 and variance 1 (if any of the d_i are floats, they are first converted to integers by truncation). A single float randomly sampled from the distribution is returned if no argument is provided.\n",
    "\n",
    "Syntax:\n",
    "numpy.random.randn(d0, d1, ..., dn)\n",
    "\n",
    "Parameters : \n",
    "d0, d1, ..., dn : [int, optional]Dimension of the returned array we require, \n",
    "     If no argument is given a single Python float is returned.\n",
    "\n",
    "Return : \n",
    "Array of defined shape, filled with random floating-point samples from \n",
    "the standard normal distribution."
   ]
  },
  {
   "cell_type": "code",
   "execution_count": 4,
   "id": "6513d990",
   "metadata": {},
   "outputs": [
    {
     "name": "stdout",
     "output_type": "stream",
     "text": [
      "1D Array filled with random values : \n",
      " [-0.43074356  1.74264704 -1.65746401 -0.61690796  1.02286713]\n",
      "2D Array filled with random values : \n",
      " [[ 0.51021644 -0.46987305  1.24270257 -1.96799457]\n",
      " [-0.03184291  0.95222588 -0.59563724  0.50739643]\n",
      " [-1.00139619  1.12113642 -0.09465235 -1.88854385]]\n",
      "3D Array filled with random values : \n",
      " [[[-0.96722084  0.96127986]\n",
      "  [-1.58355837 -1.15561177]]\n",
      "\n",
      " [[-0.15352267  1.55695487]\n",
      "  [ 1.33738424  0.05489337]]]\n",
      "3D Array filled with random values : \n",
      " [[[ 0.52712437  0.67644865]\n",
      "  [-0.36379707 -0.51336127]]\n",
      "\n",
      " [[-0.64797862  0.38878123]\n",
      "  [ 0.67227428  0.01038649]]]\n",
      "\n",
      "Array * 3 : \n",
      " [[[ 1.5813731   2.02934595]\n",
      "  [-1.09139122 -1.54008381]]\n",
      "\n",
      " [[-1.94393586  1.16634368]\n",
      "  [ 2.01682284  0.03115946]]]\n",
      "\n",
      "Array * 3 + 2 : \n",
      " [[[-1.29120599  0.11189044]\n",
      "  [ 4.75172558  4.79424789]]\n",
      "\n",
      " [[-1.40890094  4.69304174]\n",
      "  [ 1.50228686  5.05234491]]]\n"
     ]
    }
   ],
   "source": [
    "#randomly constructing 1D array \n",
    "\n",
    "# 1D Array\n",
    "array = np.random.randn(5)\n",
    "print(\"1D Array filled with random values : \\n\", array);\n",
    "\n",
    "#randomly constructing 2D array \n",
    "# 2D Array   \n",
    "array = np.random.randn(3, 4)\n",
    "print(\"2D Array filled with random values : \\n\", array);\n",
    "\n",
    "#randomly constructing 3D array \n",
    "# 3D Array     \n",
    "array = np.random.randn(2, 2 ,2)\n",
    "print(\"3D Array filled with random values : \\n\", array);\n",
    "\n",
    "#Manipulations with randomly created array \n",
    "\n",
    "# 3D Array     \n",
    "array = np.random.randn(2, 2 ,2)\n",
    "print(\"3D Array filled with random values : \\n\", array);\n",
    "     \n",
    "# Multiplying values with 3\n",
    "print(\"\\nArray * 3 : \\n\", array *3)\n",
    "\n",
    "# Or we cab directly do so by \n",
    "array = np.random.randn(2, 2 ,2) * 3 + 2\n",
    "print(\"\\nArray * 3 + 2 : \\n\", array);"
   ]
  },
  {
   "cell_type": "markdown",
   "id": "75a2daa1",
   "metadata": {},
   "source": [
    "3. numpy.random.randint():\n",
    "It returns an array of specified shape and fills it with random integers from low (inclusive) to high (exclusive), i.e. in the interval [low, high).\n",
    "\n",
    "Syntax:\n",
    "numpy.random.randint(low, high=None, size=None, dtype='l')\n",
    "\n",
    "Parameters : \n",
    "low : [int] Lowest (signed) integer to be drawn from the distribution.But, it works as a highest integer in the sample if high=None. \n",
    "high : [int, optional] Largest (signed) integer to be drawn from the distribution.\n",
    "size   :  [int or tuple of ints, optional] Output shape. If the given shape is, e.g., (m, n, k), then m * n * k samples are drawn. Default is None, in which case a single value is returned.\n",
    "dtype      :  [optional] Desired output data-type.\n",
    "\n",
    "Return  :  Array of random integers in the interval  [low, high)  or a single such random int if size not provided."
   ]
  },
  {
   "cell_type": "code",
   "execution_count": 6,
   "id": "6743f06e",
   "metadata": {},
   "outputs": [
    {
     "name": "stdout",
     "output_type": "stream",
     "text": [
      "Output 1D Array filled with random integers :  [1 1 1 1 0]\n",
      "Output 2D Array filled with random integers :  [[2 2 1]\n",
      " [1 0 3]]\n",
      "Output 3D Array filled with random integers :  [[[3 7 5 5]\n",
      "  [3 2 5 7]\n",
      "  [2 7 2 7]]\n",
      "\n",
      " [[6 8 6 9]\n",
      "  [5 8 2 7]\n",
      "  [9 8 6 5]]]\n"
     ]
    }
   ],
   "source": [
    "out_arr = np.random.randint(low = 0, high = 3, size = 5)\n",
    "print (\"Output 1D Array filled with random integers : \", out_arr)\n",
    "\n",
    "out_arr = np.random.randint(low = 4, size =(2, 3))\n",
    "print (\"Output 2D Array filled with random integers : \", out_arr)\n",
    "\n",
    "out_arr = np.random.randint(2, 10, (2, 3, 4))\n",
    "print (\"Output 3D Array filled with random integers : \", out_arr)"
   ]
  }
 ],
 "metadata": {
  "kernelspec": {
   "display_name": "Python 3",
   "language": "python",
   "name": "python3"
  },
  "language_info": {
   "codemirror_mode": {
    "name": "ipython",
    "version": 3
   },
   "file_extension": ".py",
   "mimetype": "text/x-python",
   "name": "python",
   "nbconvert_exporter": "python",
   "pygments_lexer": "ipython3",
   "version": "3.13.5"
  }
 },
 "nbformat": 4,
 "nbformat_minor": 5
}
