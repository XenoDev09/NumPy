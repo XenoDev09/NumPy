{
 "cells": [
  {
   "cell_type": "markdown",
   "id": "aeb9bc97",
   "metadata": {},
   "source": [
    "numpy.empty():\n",
    "\n",
    "This function create a new array of given shape and type without initializing value.\n",
    "\n",
    "Syntax:\n",
    "numpy.empty(shape, dtype=float, order='C')"
   ]
  },
  {
   "cell_type": "code",
   "execution_count": 1,
   "id": "14429251",
   "metadata": {},
   "outputs": [
    {
     "data": {
      "text/plain": [
       "array([[      0, 7471205, 5439572],\n",
       "       [      0, 3211356, 4325468],\n",
       "       [6619219, 3145783, 7209065],\n",
       "       [7733362, 4456540, 6029422]], dtype=int32)"
      ]
     },
     "execution_count": 1,
     "metadata": {},
     "output_type": "execute_result"
    }
   ],
   "source": [
    "import numpy as np\n",
    "\n",
    "np.empty([4, 3],\n",
    "         dtype = np.int32,\n",
    "         order = 'f')"
   ]
  }
 ],
 "metadata": {
  "kernelspec": {
   "display_name": "Python 3",
   "language": "python",
   "name": "python3"
  },
  "language_info": {
   "codemirror_mode": {
    "name": "ipython",
    "version": 3
   },
   "file_extension": ".py",
   "mimetype": "text/x-python",
   "name": "python",
   "nbconvert_exporter": "python",
   "pygments_lexer": "ipython3",
   "version": "3.13.5"
  }
 },
 "nbformat": 4,
 "nbformat_minor": 5
}
