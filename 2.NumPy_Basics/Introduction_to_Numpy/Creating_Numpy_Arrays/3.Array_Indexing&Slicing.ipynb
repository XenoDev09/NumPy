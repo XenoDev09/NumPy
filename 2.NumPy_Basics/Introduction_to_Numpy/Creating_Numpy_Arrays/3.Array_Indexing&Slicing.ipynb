{
 "cells": [
  {
   "cell_type": "code",
   "execution_count": 1,
   "id": "9a3d5f48",
   "metadata": {},
   "outputs": [],
   "source": [
    "import numpy as np"
   ]
  },
  {
   "cell_type": "markdown",
   "id": "2110b249",
   "metadata": {},
   "source": [
    "NumPy allows indexing and slicing operations on ndarrays which offers more flexibility to standard Python Lists.\n",
    "\n",
    "1. Basic Indexing\n",
    "We can access individual elements in an array using square brackets just like python lists."
   ]
  },
  {
   "cell_type": "code",
   "execution_count": 2,
   "id": "dc9a08af",
   "metadata": {},
   "outputs": [
    {
     "name": "stdout",
     "output_type": "stream",
     "text": [
      "40\n"
     ]
    }
   ],
   "source": [
    "arr = np.array([10,20,30,40,50])\n",
    "print(arr[3])"
   ]
  },
  {
   "cell_type": "markdown",
   "id": "7c174995",
   "metadata": {},
   "source": [
    "2. Slicing\n",
    "It allows us to extract sub-arrays using a range of indices.\n",
    "Syntax:\n",
    "[start:stop] where start is inclusive and stop is exclusive."
   ]
  },
  {
   "cell_type": "code",
   "execution_count": 4,
   "id": "cd27d6c4",
   "metadata": {},
   "outputs": [
    {
     "name": "stdout",
     "output_type": "stream",
     "text": [
      "[20 30 40]\n"
     ]
    }
   ],
   "source": [
    "arr = np.array([10,20,30,40,50])\n",
    "print(arr[1:4])"
   ]
  },
  {
   "cell_type": "markdown",
   "id": "6a99d865",
   "metadata": {},
   "source": [
    "3. Multi-Dimentional Indexing\n",
    "We can index and slice each dimension seperately in multi-dimenational arrays.This allows us to access specific rows,columns or deeper dimenstions of the array."
   ]
  },
  {
   "cell_type": "code",
   "execution_count": 6,
   "id": "a8f43475",
   "metadata": {},
   "outputs": [
    {
     "name": "stdout",
     "output_type": "stream",
     "text": [
      "6\n",
      "[[2 3]\n",
      " [5 6]]\n"
     ]
    }
   ],
   "source": [
    "arr_2d = np.array([[1,2,3],\n",
    "                   [4,5,6],\n",
    "                   [7,8,9]])\n",
    "print(arr_2d[1,2]) #outer array indexing, then inner array\n",
    "print(arr_2d[0:2, 1:3]) # outer array slicing , then inner array"
   ]
  },
  {
   "cell_type": "markdown",
   "id": "e1a7b11a",
   "metadata": {},
   "source": [
    "Array Operations:\n",
    "Numpy allows us to perform operations on entire arrays which enables efficient computation without the need for explicit loops.\n",
    "\n",
    "1. Element-Wise Operations\n",
    "These are straightforward and allows us to perform arithmetic operations on each element of the array directly."
   ]
  },
  {
   "cell_type": "code",
   "execution_count": 7,
   "id": "9c17e8f9",
   "metadata": {},
   "outputs": [
    {
     "name": "stdout",
     "output_type": "stream",
     "text": [
      "[5 7 9]\n",
      "[-3 -3 -3]\n",
      "[ 4 10 18]\n",
      "[0.25 0.4  0.5 ]\n"
     ]
    }
   ],
   "source": [
    "arr = np.array([1,2,3])\n",
    "arr_2 = np.array([4,5,6])\n",
    "\n",
    "print(arr + arr_2)\n",
    "print(arr - arr_2)\n",
    "print(arr * arr_2)\n",
    "print(arr / arr_2)"
   ]
  },
  {
   "cell_type": "markdown",
   "id": "0f1548e1",
   "metadata": {},
   "source": [
    "2. Matrix Operations ( Dot product )\n",
    "It allows us to multiply two arrays or matrices and get a single value or another matrix."
   ]
  },
  {
   "cell_type": "code",
   "execution_count": 8,
   "id": "887b23b8",
   "metadata": {},
   "outputs": [
    {
     "name": "stdout",
     "output_type": "stream",
     "text": [
      "[[19 22]\n",
      " [43 50]]\n"
     ]
    }
   ],
   "source": [
    "matrix1 = np.array([[1,2],\n",
    "                    [3,4]])\n",
    "matrix2 = np.array([[5,6],\n",
    "                    [7,8]])\n",
    "print(np.dot(matrix1,matrix2))"
   ]
  },
  {
   "cell_type": "markdown",
   "id": "0ab9e969",
   "metadata": {},
   "source": [
    "3. Broadcasting \n",
    "This feature enables us to perform operations on arrays of different shapes. Numpy automatically adjusts the smaller array to match the shape of the larger for the operation."
   ]
  },
  {
   "cell_type": "code",
   "execution_count": 9,
   "id": "dbd503be",
   "metadata": {},
   "outputs": [
    {
     "name": "stdout",
     "output_type": "stream",
     "text": [
      "[[11 12]\n",
      " [13 14]]\n"
     ]
    }
   ],
   "source": [
    "arr = np.array([[1,2],\n",
    "                [3,4]])\n",
    "print(arr + 10)"
   ]
  },
  {
   "cell_type": "markdown",
   "id": "10eaea9c",
   "metadata": {},
   "source": [
    "4. Reshaping and Flattening\n",
    "Numpy provides functions to reshape or flatten arrays which is useful when working with machine learning or deep learning algorithms.\n",
    "\n",
    "Reshaping:\n",
    "Change the shape of an array while keeping the data same."
   ]
  },
  {
   "cell_type": "code",
   "execution_count": 10,
   "id": "55a4c7b2",
   "metadata": {},
   "outputs": [
    {
     "name": "stdout",
     "output_type": "stream",
     "text": [
      "[[1 2 3]\n",
      " [4 5 6]]\n"
     ]
    }
   ],
   "source": [
    "arr = np.array([1,2,3,4,5,6])\n",
    "reshaped_arr = arr.reshape(2,3)\n",
    "print(reshaped_arr)"
   ]
  },
  {
   "cell_type": "markdown",
   "id": "d7b2c60f",
   "metadata": {},
   "source": [
    "Flattening:\n",
    "Convert multi-dimentional arrays into one - dimentional arrays."
   ]
  },
  {
   "cell_type": "code",
   "execution_count": 11,
   "id": "de47e1cf",
   "metadata": {},
   "outputs": [
    {
     "name": "stdout",
     "output_type": "stream",
     "text": [
      "[1 2 3 4 5 6]\n"
     ]
    }
   ],
   "source": [
    "arr = np.array([[1,2,3],\n",
    "                [4,5,6]])\n",
    "flattened_arr = arr.flatten()\n",
    "print(flattened_arr)"
   ]
  }
 ],
 "metadata": {
  "kernelspec": {
   "display_name": "Python 3",
   "language": "python",
   "name": "python3"
  },
  "language_info": {
   "codemirror_mode": {
    "name": "ipython",
    "version": 3
   },
   "file_extension": ".py",
   "mimetype": "text/x-python",
   "name": "python",
   "nbconvert_exporter": "python",
   "pygments_lexer": "ipython3",
   "version": "3.13.5"
  }
 },
 "nbformat": 4,
 "nbformat_minor": 5
}
