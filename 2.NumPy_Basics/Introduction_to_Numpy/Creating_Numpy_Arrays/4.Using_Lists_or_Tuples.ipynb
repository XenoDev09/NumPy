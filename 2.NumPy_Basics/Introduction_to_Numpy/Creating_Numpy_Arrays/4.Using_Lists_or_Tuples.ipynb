{
 "cells": [
  {
   "cell_type": "markdown",
   "id": "5294337b",
   "metadata": {},
   "source": [
    "The simplest way to create a Numpy array is by passing a python list or Tuple to the numpy.array()function ,which creates one dimentional array."
   ]
  },
  {
   "cell_type": "code",
   "execution_count": 1,
   "id": "7f744820",
   "metadata": {},
   "outputs": [],
   "source": [
    "import numpy as np"
   ]
  },
  {
   "cell_type": "code",
   "execution_count": 2,
   "id": "98f88881",
   "metadata": {},
   "outputs": [
    {
     "name": "stdout",
     "output_type": "stream",
     "text": [
      "[1 2 3 4 5]\n"
     ]
    }
   ],
   "source": [
    "my_list = [1,2,3,4,5]\n",
    "arr = np.array(my_list)\n",
    "print(arr)"
   ]
  }
 ],
 "metadata": {
  "kernelspec": {
   "display_name": "Python 3",
   "language": "python",
   "name": "python3"
  },
  "language_info": {
   "codemirror_mode": {
    "name": "ipython",
    "version": 3
   },
   "file_extension": ".py",
   "mimetype": "text/x-python",
   "name": "python",
   "nbconvert_exporter": "python",
   "pygments_lexer": "ipython3",
   "version": "3.13.5"
  }
 },
 "nbformat": 4,
 "nbformat_minor": 5
}
