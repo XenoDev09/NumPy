{
 "cells": [
  {
   "cell_type": "code",
   "execution_count": 1,
   "id": "6b3f8238",
   "metadata": {},
   "outputs": [],
   "source": [
    "import numpy as np"
   ]
  },
  {
   "cell_type": "markdown",
   "id": "db0b4d24",
   "metadata": {},
   "source": [
    "numpy.fromiter():\n",
    "\n",
    "The fromiter() function create a new one-dimensional array from an iterable object.\n",
    "\n",
    "Syntax:\n",
    "numpy.fromiter(iterable, dtype, count=-1)"
   ]
  },
  {
   "cell_type": "code",
   "execution_count": 2,
   "id": "4aead54d",
   "metadata": {},
   "outputs": [
    {
     "name": "stdout",
     "output_type": "stream",
     "text": [
      "fromiter() array : ['n' 'i' 's' 'c' 'h' 'a' 'l']\n"
     ]
    }
   ],
   "source": [
    "var = \"nischal\"\n",
    "\n",
    "arr = np.fromiter(var, dtype = 'U2')\n",
    "\n",
    "print(\"fromiter() array :\",\n",
    "      arr)"
   ]
  }
 ],
 "metadata": {
  "kernelspec": {
   "display_name": "Python 3",
   "language": "python",
   "name": "python3"
  },
  "language_info": {
   "codemirror_mode": {
    "name": "ipython",
    "version": 3
   },
   "file_extension": ".py",
   "mimetype": "text/x-python",
   "name": "python",
   "nbconvert_exporter": "python",
   "pygments_lexer": "ipython3",
   "version": "3.13.5"
  }
 },
 "nbformat": 4,
 "nbformat_minor": 5
}
