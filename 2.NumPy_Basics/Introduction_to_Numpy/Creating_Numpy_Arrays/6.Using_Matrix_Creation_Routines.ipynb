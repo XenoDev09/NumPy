{
 "cells": [
  {
   "cell_type": "code",
   "execution_count": 1,
   "id": "56593270",
   "metadata": {},
   "outputs": [],
   "source": [
    "import numpy as np"
   ]
  },
  {
   "cell_type": "markdown",
   "id": "18415873",
   "metadata": {},
   "source": [
    "NumPy provides functions to create specific types of matrices.\n",
    "\n",
    "1. np.eye(): Creates an identity matrix of specified size.\n",
    "2. np.diag(): Constructs a diagonal array.\n",
    "3. np.zeros_like(): Creates an array of zeros with the same shape and type as a given array.\n",
    "4. np.ones_like(): Creates an array of ones with the same shape and type as a given array."
   ]
  },
  {
   "cell_type": "code",
   "execution_count": 2,
   "id": "01589fa8",
   "metadata": {},
   "outputs": [
    {
     "name": "stdout",
     "output_type": "stream",
     "text": [
      "[[1. 0. 0.]\n",
      " [0. 1. 0.]\n",
      " [0. 0. 1.]]\n",
      "[[1 0 0]\n",
      " [0 2 0]\n",
      " [0 0 3]]\n",
      "[[0 0 0]\n",
      " [0 0 0]\n",
      " [0 0 0]]\n",
      "[[1 1 1]\n",
      " [1 1 1]\n",
      " [1 1 1]]\n"
     ]
    }
   ],
   "source": [
    "identity_matrix = np.eye(3)\n",
    "diagonal_array = np.diag([1, 2, 3])\n",
    "zeros_like_array = np.zeros_like(diagonal_array)\n",
    "ones_like_array = np.ones_like(diagonal_array)\n",
    "\n",
    "print(identity_matrix)\n",
    "print(diagonal_array)\n",
    "print(zeros_like_array)\n",
    "print(ones_like_array)"
   ]
  },
  {
   "cell_type": "markdown",
   "id": "48d49791",
   "metadata": {},
   "source": [
    "1. numpy.eye():\n",
    "\n",
    "This function is often used to generate identity matrices with ones along the diagonal and zeros in all other positions.\n",
    "\n",
    "Syntax:\n",
    "numpy.eye(N, M=None, k=0, dtype=<class 'float'>, order='C')\n",
    "\n",
    "Parameters : \n",
    "R : Number of rows\n",
    "C : [optional] Number of columns,By default M = N\n",
    "k : [int, optional, 0 by default]\n",
    "Diagonal we require; k>0 means diagonal above main diagonal or vice versa.\n",
    "dtype : [optional, float(by Default)] Data type of returned array."
   ]
  },
  {
   "cell_type": "code",
   "execution_count": 4,
   "id": "1fd7ecde",
   "metadata": {},
   "outputs": [
    {
     "name": "stdout",
     "output_type": "stream",
     "text": [
      "[[1. 0. 0. 0. 0.]\n",
      " [0. 1. 0. 0. 0.]\n",
      " [0. 0. 1. 0. 0.]]\n",
      "[[0. 1. 0. 0.]\n",
      " [0. 0. 1. 0.]\n",
      " [0. 0. 0. 1.]\n",
      " [0. 0. 0. 0.]]\n"
     ]
    }
   ],
   "source": [
    "# Creating a 3x5 rectangular matrix\n",
    "rectangular_matrix = np.eye(3, 5)\n",
    "print(rectangular_matrix)\n",
    "\n",
    "#Specify a Diagonal Offset\n",
    "#Specifying a diagonal offset refers to shifting the location of the diagonal filled with 1s within the matrix.\n",
    "\n",
    "# Creating a 4x4 matrix with diagonal offset\n",
    "matrix = np.eye(4, k=1)\n",
    "print(matrix)"
   ]
  },
  {
   "cell_type": "markdown",
   "id": "f9b988e4",
   "metadata": {},
   "source": [
    "2. numpy.diag():\n",
    "\n",
    "numpy.diag(a, k=0) : Extracts and construct a diagonal array \n",
    "Parameters : \n",
    "\n",
    "a : array_like \n",
    "k : [int, optional, 0 by default]\n",
    "          Diagonal we require; k>0 means diagonal above main diagonal or vice versa.\n",
    "\n",
    "Returns : \n",
    "ndarray"
   ]
  },
  {
   "cell_type": "code",
   "execution_count": 5,
   "id": "b33e14c2",
   "metadata": {},
   "outputs": [
    {
     "name": "stdout",
     "output_type": "stream",
     "text": [
      "Main Diagonal elements : \n",
      " [  1 434  56] \n",
      "\n",
      "Diagonal above main diagonal : \n",
      " [21  3] \n",
      "\n",
      "Diagonal below main diagonal : \n",
      " [63 54]\n"
     ]
    }
   ],
   "source": [
    "# matrix creation by array input\n",
    "a = np.matrix([[1, 21, 30], \n",
    "                 [63 ,434, 3], \n",
    "                 [54, 54, 56]])\n",
    "\n",
    "print(\"Main Diagonal elements : \\n\", np.diag(a), \"\\n\")\n",
    "\n",
    "print(\"Diagonal above main diagonal : \\n\", np.diag(a, 1), \"\\n\")\n",
    "\n",
    "print(\"Diagonal below main diagonal : \\n\", np.diag(a, -1))"
   ]
  },
  {
   "cell_type": "markdown",
   "id": "50e90e61",
   "metadata": {},
   "source": [
    "3. np.zeros_like():\n",
    "\n",
    "This numpy method returns an array of given shape and type as given array, with zeros. \n",
    "\n",
    "Syntax:\n",
    "numpy.zeros_like(array, dtype = None, order = 'K', subok = True)\n",
    "\n",
    "Parameters : \n",
    "array : array_like input\n",
    "subok  : [optional, boolean]If true, then newly created array will be sub-class of array; \n",
    "                 otherwise, a base-class array\n",
    "order  : C_contiguous or F_contiguous\n",
    "         C-contiguous order in memory(last index varies the fastest)\n",
    "         C order means that operating row-rise on the array will be slightly quicker\n",
    "         FORTRAN-contiguous order in memory (first index varies the fastest).\n",
    "         F order means that column-wise operations will be faster. \n",
    "dtype  : [optional, float(byDefault)] Data type of returned array.  \n",
    "\n",
    "Returns : \n",
    "ndarray of zeros having given shape, order and datatype."
   ]
  },
  {
   "cell_type": "code",
   "execution_count": 6,
   "id": "9972d6be",
   "metadata": {},
   "outputs": [
    {
     "name": "stdout",
     "output_type": "stream",
     "text": [
      "Original array : \n",
      " [[0 1]\n",
      " [2 3]\n",
      " [4 5]\n",
      " [6 7]\n",
      " [8 9]]\n",
      "\n",
      "Matrix b : \n",
      " [[0. 0.]\n",
      " [0. 0.]\n",
      " [0. 0.]\n",
      " [0. 0.]\n",
      " [0. 0.]]\n",
      "\n",
      "Matrix c : \n",
      " [0 0 0 0 0 0 0 0]\n"
     ]
    }
   ],
   "source": [
    "array = np.arange(10).reshape(5, 2)\n",
    "print(\"Original array : \\n\", array)\n",
    "\n",
    "\n",
    "b = np.zeros_like(array, float)\n",
    "print(\"\\nMatrix b : \\n\", b)\n",
    "\n",
    "array = np.arange(8)\n",
    "c = np.zeros_like(array)\n",
    "print(\"\\nMatrix c : \\n\", c)"
   ]
  },
  {
   "cell_type": "code",
   "execution_count": 7,
   "id": "a127dde4",
   "metadata": {},
   "outputs": [
    {
     "name": "stdout",
     "output_type": "stream",
     "text": [
      "Original array : \n",
      " [[0 1]\n",
      " [2 3]\n",
      " [4 5]\n",
      " [6 7]\n",
      " [8 9]]\n",
      "\n",
      "Matrix  : \n",
      " [[0. 0.]\n",
      " [0. 0.]]\n",
      "\n",
      "Matrix  : \n",
      " [0. 0. 0. 0. 0. 0. 0. 0.]\n"
     ]
    }
   ],
   "source": [
    "array = np.arange(10).reshape(5, 2)\n",
    "print(\"Original array : \\n\", array)\n",
    "\n",
    "array = np.arange(4).reshape(2, 2)\n",
    "c = np.zeros_like(array, dtype = 'float')\n",
    "print(\"\\nMatrix  : \\n\", c)\n",
    "\n",
    "array = np.arange(8)\n",
    "c = np.zeros_like(array, dtype = 'float', order ='C')\n",
    "print(\"\\nMatrix  : \\n\", c)"
   ]
  },
  {
   "cell_type": "markdown",
   "id": "8894e079",
   "metadata": {},
   "source": [
    "4. numpy.ones_like():\n",
    "\n",
    "The numpy.one_like() function returns an array of given shape and type as a given array, with ones.\n",
    "\n",
    "Syntax:\n",
    "numpy.ones_like(array, dtype = None, order = 'K', subok = True)\n",
    "\n",
    "Parameters :\n",
    "array : array_like input\n",
    "subok  : [optional, boolean]If true, then newly created array will be sub-class of array; \n",
    "                 otherwise, a base-class array\n",
    "order  : C_contiguous or F_contiguous\n",
    "         C-contiguous order in memory(last index varies the fastest)\n",
    "         C order means that operating row-wise on the array will be slightly quicker\n",
    "         FORTRAN-contiguous order in memory (first index varies the fastest).\n",
    "         F order means that column-wise operations will be faster. \n",
    "dtype  : [optional, float(byDefault)] Data type of returned array.  \n",
    "\n",
    "Return:\n",
    "ndarray of ones having given shape, order and datatype."
   ]
  },
  {
   "cell_type": "code",
   "execution_count": 8,
   "id": "615817a5",
   "metadata": {},
   "outputs": [
    {
     "name": "stdout",
     "output_type": "stream",
     "text": [
      "Original array : \n",
      " [[0 1]\n",
      " [2 3]\n",
      " [4 5]\n",
      " [6 7]\n",
      " [8 9]]\n",
      "\n",
      "Matrix b : \n",
      " [[1. 1.]\n",
      " [1. 1.]\n",
      " [1. 1.]\n",
      " [1. 1.]\n",
      " [1. 1.]]\n",
      "\n",
      "Matrix c : \n",
      " [1 1 1 1 1 1 1 1]\n"
     ]
    }
   ],
   "source": [
    "array = np.arange(10).reshape(5, 2)\n",
    "print(\"Original array : \\n\", array)\n",
    "\n",
    "\n",
    "b = np.ones_like(array, float)\n",
    "print(\"\\nMatrix b : \\n\", b)\n",
    "\n",
    "array = np.arange(8)\n",
    "c = np.ones_like(array)\n",
    "print(\"\\nMatrix c : \\n\", c)\n"
   ]
  }
 ],
 "metadata": {
  "kernelspec": {
   "display_name": "Python 3",
   "language": "python",
   "name": "python3"
  },
  "language_info": {
   "codemirror_mode": {
    "name": "ipython",
    "version": 3
   },
   "file_extension": ".py",
   "mimetype": "text/x-python",
   "name": "python",
   "nbconvert_exporter": "python",
   "pygments_lexer": "ipython3",
   "version": "3.13.5"
  }
 },
 "nbformat": 4,
 "nbformat_minor": 5
}
