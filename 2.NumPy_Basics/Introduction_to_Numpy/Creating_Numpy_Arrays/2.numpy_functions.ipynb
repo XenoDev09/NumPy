{
 "cells": [
  {
   "cell_type": "code",
   "execution_count": 1,
   "id": "76823e2a",
   "metadata": {},
   "outputs": [],
   "source": [
    "import numpy as np"
   ]
  },
  {
   "cell_type": "markdown",
   "id": "dfd67cff",
   "metadata": {},
   "source": [
    "Numpy provides convenient methods to create arrays initilized with specific values like zeros and ones."
   ]
  },
  {
   "cell_type": "code",
   "execution_count": 2,
   "id": "8e8af385",
   "metadata": {},
   "outputs": [
    {
     "name": "stdout",
     "output_type": "stream",
     "text": [
      "[[0. 0. 0.]\n",
      " [0. 0. 0.]\n",
      " [0. 0. 0.]]\n",
      "[[1. 1.]\n",
      " [1. 1.]]\n",
      "[0 2 4 6 8]\n"
     ]
    }
   ],
   "source": [
    "a1_zeros = np.zeros((3,3))\n",
    "\n",
    "a2_ones = np.ones((2,2))\n",
    "\n",
    "a3_range = np.arange(0,10,2)\n",
    "\n",
    "print(a1_zeros)\n",
    "print(a2_ones)\n",
    "print(a3_range)"
   ]
  },
  {
   "cell_type": "markdown",
   "id": "9da826c1",
   "metadata": {},
   "source": [
    "As seen above, It has several built-in functions to generate arrays with specific properties.\n",
    "\n",
    "1. np.zeros(): Creates an array filled with zeros.\n",
    "2. np.ones(): Creates an array filled with ones.\n",
    "3. np.full(): Creates an array filled with a specified value.\n",
    "4. np.arange(): Creates an array with values that are evenly spaced within a given range.\n",
    "5. np.linspace(): Creates an array with values that are evenly spaced over a specified interval.\n"
   ]
  },
  {
   "cell_type": "code",
   "execution_count": 3,
   "id": "58e36e09",
   "metadata": {},
   "outputs": [
    {
     "name": "stdout",
     "output_type": "stream",
     "text": [
      "Zero Array: \n",
      " [[0. 0. 0.]\n",
      " [0. 0. 0.]]\n",
      "Ones Array: \n",
      " [[1. 1. 1.]\n",
      " [1. 1. 1.]\n",
      " [1. 1. 1.]]\n",
      "Constant Array: \n",
      " [[7 7]\n",
      " [7 7]]\n",
      "Range Array: \n",
      " [0 2 4 6 8]\n",
      "Linspace Array: \n",
      " [0.   0.25 0.5  0.75 1.  ]\n"
     ]
    }
   ],
   "source": [
    "zeros_array = np.zeros((2, 3))\n",
    "ones_array = np.ones((3, 3))\n",
    "constant_array = np.full((2, 2), 7)\n",
    "range_array = np.arange(0, 10, 2)  # start, stop, step\n",
    "linspace_array = np.linspace(0, 1, 5)  # start, stop, num\n",
    "\n",
    "print(\"Zero Array:\",\"\\n\",zeros_array)\n",
    "print(\"Ones Array:\",\"\\n\",ones_array)\n",
    "print(\"Constant Array:\",\"\\n\",constant_array)\n",
    "print(\"Range Array:\",\"\\n\",range_array)\n",
    "print(\"Linspace Array:\",\"\\n\",linspace_array)"
   ]
  },
  {
   "cell_type": "markdown",
   "id": "1e09c302",
   "metadata": {},
   "source": [
    "1. Numpy.zeros():\n",
    "numpy.zeros() function creates a new array of specified shapes and types, filled with zeros. It is beneficial when we need a placeholder array to initialize variables or store intermediate results. We can create 1D array using numpy.zeros().\n",
    "\n",
    "Syntax:\n",
    "numpy.zeros(shape, dtype = None, order = 'C') \n",
    "\n",
    "- shape: integer or sequence of integers – Defines the shape of the new array. Can be a single integer or a tuple.\n",
    "- dtype: optional, default is float – The data type of the returned array. If not specified, the default is float.\n",
    "- order: {‘C’, ‘F’} – Specifies the memory layout order:\n",
    "   C-order: C-contiguous order means the last index varies the fastest. It is optimal for row-wise operations.\n",
    "\n",
    "   F-order: FORTRAN-contiguous order means the first index varies the fastest. It is optimal for column-wise operations.\n",
    "\n",
    "numpy.zeros() returns a new array filled with zeros, based on the specified shape and type."
   ]
  },
  {
   "cell_type": "code",
   "execution_count": 4,
   "id": "0ec890fd",
   "metadata": {},
   "outputs": [
    {
     "name": "stdout",
     "output_type": "stream",
     "text": [
      "[0. 0. 0. 0. 0.]\n",
      "[[0. 0. 0. 0.]\n",
      " [0. 0. 0. 0.]\n",
      " [0. 0. 0. 0.]]\n"
     ]
    }
   ],
   "source": [
    "arr = np.zeros(5)\n",
    "print(arr)\n",
    "\n",
    "arr = np.zeros((3, 4))# Creating a 2D array with 3 rows and 4 columns\n",
    "print(arr)"
   ]
  },
  {
   "cell_type": "markdown",
   "id": "bdd7a707",
   "metadata": {},
   "source": [
    "Specifying Data Type (dtype):\n",
    "\n",
    "dtype parameter in numpy.zeros() defines the type of data stored in the array."
   ]
  },
  {
   "cell_type": "code",
   "execution_count": 5,
   "id": "ccd06ed5",
   "metadata": {},
   "outputs": [
    {
     "name": "stdout",
     "output_type": "stream",
     "text": [
      "[[(0., 0) (0., 0)]\n",
      " [(0., 0) (0., 0)]]\n"
     ]
    }
   ],
   "source": [
    "# Create an array of tuples with zeros\n",
    "d = np.zeros((2, 2), dtype=[('f', 'f4'), ('i', 'i4')])\n",
    "print(d)"
   ]
  },
  {
   "cell_type": "markdown",
   "id": "13cbed2f",
   "metadata": {},
   "source": [
    "C vs F Order\n",
    "Choosing the right memory layout can significantly improve performance, depending on our specific operations. If your operations are row-wise, use C-order. If they are column-wise, use F-order."
   ]
  },
  {
   "cell_type": "code",
   "execution_count": 6,
   "id": "8884c37f",
   "metadata": {},
   "outputs": [
    {
     "name": "stdout",
     "output_type": "stream",
     "text": [
      "C-order array: [[0. 0. 0.]\n",
      " [0. 0. 0.]]\n",
      "F-order array: [[0. 0. 0.]\n",
      " [0. 0. 0.]]\n"
     ]
    }
   ],
   "source": [
    "# Create a 2x3 array in C-order\n",
    "e = np.zeros((2, 3), order='C')\n",
    "print(\"C-order array:\", e)\n",
    "\n",
    "# Create a 2x3 array in F-order\n",
    "f = np.zeros((2, 3), order='F')\n",
    "print(\"F-order array:\", f)"
   ]
  },
  {
   "cell_type": "markdown",
   "id": "ad69424e",
   "metadata": {},
   "source": [
    "2. Numpy.ones():\n",
    "The numpy.ones() function returns a new array of given shape and type, with ones.\n",
    "\n",
    "Syntax:\n",
    "numpy.ones(shape, dtype = None, order = 'C')\n",
    "\n",
    "Parameters : \n",
    "shape : integer or sequence of integers\n",
    "order  : C_contiguous or F_contiguous\n",
    "         C-contiguous order in memory(last index varies the fastest)\n",
    "         C order means that operating row-rise on the array will be slightly quicker\n",
    "         FORTRAN-contiguous order in memory (first index varies the fastest).\n",
    "         F order means that column-wise operations will be faster. \n",
    "dtype : [optional, float(byDefault)] Data type of returned array.  \n",
    "\n",
    "Returns : \n",
    "ndarray of ones having given shape, order and datatype.\n"
   ]
  },
  {
   "cell_type": "code",
   "execution_count": 8,
   "id": "0d68d662",
   "metadata": {},
   "outputs": [
    {
     "name": "stdout",
     "output_type": "stream",
     "text": [
      "Matrix b :\n",
      " [1 1]\n",
      "Matrix a :\n",
      " [[1 1]\n",
      " [1 1]]\n",
      "Matrix c :\n",
      " [[1. 1. 1.]\n",
      " [1. 1. 1.]\n",
      " [1. 1. 1.]]\n"
     ]
    }
   ],
   "source": [
    "b = np.ones(2, dtype = int)\n",
    "print(\"Matrix b :\\n\",  b)\n",
    "\n",
    "a = np.ones([2, 2], dtype = int)\n",
    "print(\"Matrix a :\\n\" , a)\n",
    "\n",
    "c = np.ones([3, 3])\n",
    "print(\"Matrix c :\\n\", c)"
   ]
  },
  {
   "cell_type": "markdown",
   "id": "ecb8491e",
   "metadata": {},
   "source": [
    "3. numpy.full():\n",
    "\n",
    "Syntax:\n",
    "numpy.full(shape, fill_value, dtype = None, order = 'C')\n",
    "\n",
    "Parameters :\n",
    "shape      : Number of rows\n",
    "order      : C_contiguous or F_contiguous\n",
    "dtype      : [optional, float(by Default)] Data type of returned array.  \n",
    "fill_value : [bool, optional] Value to fill in the array.\n",
    "\n",
    "Returns :\n",
    "ndarray"
   ]
  },
  {
   "cell_type": "code",
   "execution_count": 9,
   "id": "8229cebc",
   "metadata": {},
   "outputs": [
    {
     "name": "stdout",
     "output_type": "stream",
     "text": [
      "\n",
      "Matrix a : \n",
      " [[67 67]\n",
      " [67 67]]\n",
      "\n",
      "Matrix c : \n",
      " [[10.1 10.1 10.1]\n",
      " [10.1 10.1 10.1]\n",
      " [10.1 10.1 10.1]]\n"
     ]
    }
   ],
   "source": [
    "a = np.full([2, 2], 67, dtype = int)\n",
    "print(\"\\nMatrix a : \\n\", a)\n",
    "\n",
    "c = np.full([3, 3], 10.1)\n",
    "print(\"\\nMatrix c : \\n\", c)"
   ]
  },
  {
   "cell_type": "markdown",
   "id": "9e508319",
   "metadata": {},
   "source": [
    "4. numpy.arrange():\n",
    "It creates an array of evenly spaced values within a given interval. It is similar to Python's built-in range() function but returns a NumPy array instead of a list.\n",
    "\n",
    "Syntax:\n",
    "numpy.arange([start, ]stop, [step, ]dtype=None, *, like=None)\n",
    "\n",
    "Parameters of numpy():\n",
    "start (optional): The starting value of the sequence. Default is 0.\n",
    "stop (required): The endpoint of the sequence, exclusive.\n",
    "step (optional): The spacing between consecutive values. Default is 1.\n",
    "dtype (optional): The desired data type of the output array.\n",
    "\n",
    "Return Type:\n",
    "Array of evenly spaced values."
   ]
  },
  {
   "cell_type": "code",
   "execution_count": 12,
   "id": "221fdd0d",
   "metadata": {},
   "outputs": [
    {
     "name": "stdout",
     "output_type": "stream",
     "text": [
      "Basic Sequence: [0 1 2 3 4 5 6 7 8 9]\n",
      "Floating-Point Sequence: [0.  0.2 0.4 0.6 0.8]\n",
      "Filtered Sequence: [12 15 18]\n"
     ]
    }
   ],
   "source": [
    "# Creating a sequence of numbers from 0 to 9\n",
    "sequence = np.arange(10)\n",
    "print(\"Basic Sequence:\", sequence)\n",
    "\n",
    "# Creating a sequence of floating-point numbers from 0 to 1 \n",
    "# with a step size of 0.2 using np.arange()\n",
    "sequence = np.arange(0, 1, 0.2)\n",
    "print(\"Floating-Point Sequence:\", sequence)\n",
    "\n",
    "#Combining with Conditional Filtering\n",
    "# Creating a sequence of numbers from 0 to 20 \n",
    "sequence = np.arange(0, 20, 3)\n",
    "\n",
    "# Filtering the sequence to include only values greater than 10\n",
    "filtered = sequence[sequence > 10]\n",
    "print(\"Filtered Sequence:\", filtered)"
   ]
  },
  {
   "cell_type": "markdown",
   "id": "7b76b671",
   "metadata": {},
   "source": [
    "5. numpy.linspace():\n",
    "linspace() function in NumPy returns an array of evenly spaced numbers over a specified range.linspace() allows us to specify the total number of points we want in the array, and NumPy will calculate the spacing between the numbers automatically.\n",
    "\n",
    "Syntax:\n",
    "numpy.linspace(start, stop, num=50, endpoint=True, retstep=False, dtype=None, axis=0)\n",
    "\n",
    "Parameters:\n",
    "start: [optional] start of interval range. By default start = 0\n",
    "stop: end of interval range\n",
    "num: [int, optional] No. of samples to generate\n",
    "retstep: If True, Stop is the last sample By default restep = False\n",
    "endpoint: If True, stop is included as the last value. If False, stop is excluded. By default endpoint=True.\n",
    "dtype: type of output array\n",
    "axis: If start and stop are arrays, axis specifies on what axis will the values be added. If axis = 0, value is added to front, if axis = -1 value is added at the end.\n",
    "\n",
    "Return Type:\n",
    "ndarray\n",
    "step : [float, optional], if restep = True"
   ]
  },
  {
   "cell_type": "code",
   "execution_count": 15,
   "id": "fe5eba8a",
   "metadata": {},
   "outputs": [
    {
     "name": "stdout",
     "output_type": "stream",
     "text": [
      "[0.  0.1 0.2 0.3 0.4 0.5 0.6 0.7 0.8 0.9]\n",
      "Step Size: 2.5\n",
      "[[0.         0.04166667 0.08333333 0.125      0.16666667]\n",
      " [0.20833333 0.25       0.29166667 0.33333333 0.375     ]\n",
      " [0.41666667 0.45833333 0.5        0.54166667 0.58333333]\n",
      " [0.625      0.66666667 0.70833333 0.75       0.79166667]\n",
      " [0.83333333 0.875      0.91666667 0.95833333 1.        ]]\n"
     ]
    }
   ],
   "source": [
    "#Including or Excluding the Stop Value\n",
    "#By default, linspace() includes the stop value. However, you can exclude it by setting the endpoint parameter to False.\n",
    "\n",
    "# Generate 10 numbers between 0 and 1\n",
    "array_without_endpoint = np.linspace(0, 1, num=10, endpoint=False)\n",
    "\n",
    "print(array_without_endpoint)\n",
    "\n",
    "#Getting the Step Size\n",
    "#retstep parameter allows you to return the step size between each number along with the array.\n",
    "\n",
    "# Generate 5 numbers between 0 and 10 and return the step size\n",
    "array, step = np.linspace(0, 10, num=5, retstep=True)\n",
    "\n",
    "print(\"Step Size:\", step)\n",
    "\n",
    "#Multi-Dimensional Arrays\n",
    "#We can also generate multi-dimensional arrays using linspace(). We can create a 2D array of numbers between 0 and 1:\n",
    "\n",
    "# Create a 2D array of 5x5 numbers between 0 and 1\n",
    "array_2d = np.linspace(0, 1, num=25).reshape(5, 5)\n",
    "\n",
    "print(array_2d)"
   ]
  }
 ],
 "metadata": {
  "kernelspec": {
   "display_name": "Python 3",
   "language": "python",
   "name": "python3"
  },
  "language_info": {
   "codemirror_mode": {
    "name": "ipython",
    "version": 3
   },
   "file_extension": ".py",
   "mimetype": "text/x-python",
   "name": "python",
   "nbconvert_exporter": "python",
   "pygments_lexer": "ipython3",
   "version": "3.13.5"
  }
 },
 "nbformat": 4,
 "nbformat_minor": 5
}
