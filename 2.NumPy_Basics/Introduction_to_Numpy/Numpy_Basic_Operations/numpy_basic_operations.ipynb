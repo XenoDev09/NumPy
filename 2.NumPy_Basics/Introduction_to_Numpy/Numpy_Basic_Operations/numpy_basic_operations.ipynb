{
 "cells": [
  {
   "cell_type": "code",
   "execution_count": 2,
   "id": "7f2af4e9",
   "metadata": {},
   "outputs": [],
   "source": [
    "import numpy as np"
   ]
  },
  {
   "cell_type": "markdown",
   "id": "55ab01bf",
   "metadata": {},
   "source": [
    "Element-wise operations in NumPy allow you to perform mathematical operations on each element of an array individually, without the need for explicit loops.\n",
    "\n",
    "1. Element-wise Operations: We can perform arithmetic operations like addition, subtraction, multiplication, and division directly on NumPy arrays."
   ]
  },
  {
   "cell_type": "code",
   "execution_count": 3,
   "id": "117ffdd6",
   "metadata": {},
   "outputs": [
    {
     "name": "stdout",
     "output_type": "stream",
     "text": [
      "Addition: [5 7 9]\n",
      "substration: [-3 -3 -3]\n",
      "multiplication: [ 4 10 18]\n",
      "division: [0.25 0.4  0.5 ]\n"
     ]
    }
   ],
   "source": [
    "x = np.array([1, 2, 3])\n",
    "y = np.array([4, 5, 6])\n",
    "\n",
    "# Addition\n",
    "add = x + y  \n",
    "print(\"Addition:\",add)\n",
    "\n",
    "# Subtraction\n",
    "subtract = x - y \n",
    "print(\"substration:\",subtract)\n",
    "\n",
    "# Multiplication\n",
    "multiply = x * y \n",
    "print(\"multiplication:\",multiply)\n",
    "\n",
    "# Division\n",
    "divide = x / y  \n",
    "print(\"division:\", divide)"
   ]
  },
  {
   "cell_type": "markdown",
   "id": "b8bce8c5",
   "metadata": {},
   "source": [
    "2. Unary Operation: These operations are applied to each individual element in the array, without the need for multiple arrays (as in binary operations)."
   ]
  },
  {
   "cell_type": "code",
   "execution_count": 4,
   "id": "eee92f09",
   "metadata": {},
   "outputs": [
    {
     "name": "stdout",
     "output_type": "stream",
     "text": [
      "Absolute value: [3 1 0 1 3]\n"
     ]
    }
   ],
   "source": [
    "# Example array with both positive and negative values\n",
    "arr = np.array([-3, -1, 0, 1, 3])\n",
    "\n",
    "# Applying a unary operation: absolute value\n",
    "result = np.absolute(arr)\n",
    "print(\"Absolute value:\", result)"
   ]
  },
  {
   "cell_type": "markdown",
   "id": "8c1eb8cb",
   "metadata": {},
   "source": [
    "3. Binary Operators:\n",
    "Numpy Binary Operations apply to the array elementwise and a new array is created. We can use all basic arithmetic operators like +, -, /,  etc. In the case of +=, -=, = operators, the existing array is modified."
   ]
  }
 ],
 "metadata": {
  "kernelspec": {
   "display_name": "Python 3",
   "language": "python",
   "name": "python3"
  },
  "language_info": {
   "codemirror_mode": {
    "name": "ipython",
    "version": 3
   },
   "file_extension": ".py",
   "mimetype": "text/x-python",
   "name": "python",
   "nbconvert_exporter": "python",
   "pygments_lexer": "ipython3",
   "version": "3.13.5"
  }
 },
 "nbformat": 4,
 "nbformat_minor": 5
}
